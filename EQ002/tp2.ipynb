{
 "cells": [
  {
   "cell_type": "code",
   "execution_count": 1,
   "id": "a2508fb2",
   "metadata": {},
   "outputs": [],
   "source": [
    "from qiskit import *"
   ]
  },
  {
   "cell_type": "code",
   "execution_count": 2,
   "id": "9c81a46f",
   "metadata": {},
   "outputs": [],
   "source": [
    "# Creation d'un registre quantique de 8 Qubits"
   ]
  },
  {
   "cell_type": "code",
   "execution_count": 3,
   "id": "e97e141e",
   "metadata": {},
   "outputs": [],
   "source": [
    "q = QuantumRegister(8)"
   ]
  },
  {
   "cell_type": "code",
   "execution_count": 4,
   "id": "3a41e267",
   "metadata": {},
   "outputs": [],
   "source": [
    "# Creation d'un registre"
   ]
  },
  {
   "cell_type": "code",
   "execution_count": 5,
   "id": "69f09071",
   "metadata": {},
   "outputs": [],
   "source": [
    "c = ClassicalRegister(1)"
   ]
  },
  {
   "cell_type": "code",
   "execution_count": 6,
   "id": "fc47943a",
   "metadata": {},
   "outputs": [],
   "source": [
    "# Creation d'un Circuit quantique utilisant le registre Q et C"
   ]
  },
  {
   "cell_type": "code",
   "execution_count": 7,
   "id": "ef951515",
   "metadata": {},
   "outputs": [],
   "source": [
    "circ = QuantumCircuit(q,c)"
   ]
  },
  {
   "cell_type": "code",
   "execution_count": 8,
   "id": "194288a2",
   "metadata": {},
   "outputs": [],
   "source": [
    "# Etat0"
   ]
  },
  {
   "cell_type": "code",
   "execution_count": 9,
   "id": "320569c5",
   "metadata": {},
   "outputs": [
    {
     "data": {
      "image/png": "[encoded data removed]",
      "text/plain": [
       "<Figure size 180.108x785.944 with 1 Axes>"
      ]
     },
     "execution_count": 9,
     "metadata": {},
     "output_type": "execute_result"
    }
   ],
   "source": [
    "circ.draw('mpl')"
   ]
  },
  {
   "cell_type": "code",
   "execution_count": 10,
   "id": "280f25c5",
   "metadata": {},
   "outputs": [],
   "source": [
    "# Systeme en place"
   ]
  },
  {
   "cell_type": "code",
   "execution_count": 11,
   "id": "6cbbef8e",
   "metadata": {},
   "outputs": [
    {
     "data": {
      "text/plain": [
       "<qiskit.circuit.instructionset.InstructionSet at 0x7efe9479cbb0>"
      ]
     },
     "execution_count": 11,
     "metadata": {},
     "output_type": "execute_result"
    }
   ],
   "source": [
    "circ.h(0)"
   ]
  },
  {
   "cell_type": "code",
   "execution_count": 12,
   "id": "c156ae52",
   "metadata": {},
   "outputs": [
    {
     "data": {
      "text/plain": [
       "<qiskit.circuit.instructionset.InstructionSet at 0x7efe9479d240>"
      ]
     },
     "execution_count": 12,
     "metadata": {},
     "output_type": "execute_result"
    }
   ],
   "source": [
    "circ.h(1)"
   ]
  },
  {
   "cell_type": "code",
   "execution_count": 13,
   "id": "997f5f64",
   "metadata": {},
   "outputs": [
    {
     "data": {
      "text/plain": [
       "<qiskit.circuit.instructionset.InstructionSet at 0x7efe9479cbe0>"
      ]
     },
     "execution_count": 13,
     "metadata": {},
     "output_type": "execute_result"
    }
   ],
   "source": [
    "circ.h(2)"
   ]
  },
  {
   "cell_type": "code",
   "execution_count": 14,
   "id": "40c1bee4",
   "metadata": {},
   "outputs": [
    {
     "name": "stderr",
     "output_type": "stream",
     "text": [
      "UsageError: Line magic function `%color` not found.\n"
     ]
    }
   ],
   "source": [
    "%color BLUE circ.h(3)"
   ]
  },
  {
   "cell_type": "code",
   "execution_count": null,
   "id": "c62afbbb",
   "metadata": {},
   "outputs": [],
   "source": [
    "# Etat1 : Les joueurs sont en place"
   ]
  },
  {
   "cell_type": "code",
   "execution_count": null,
   "id": "34ca80a1",
   "metadata": {},
   "outputs": [],
   "source": [
    "circ.draw('mpl')"
   ]
  },
  {
   "cell_type": "code",
   "execution_count": null,
   "id": "40877fba",
   "metadata": {},
   "outputs": [],
   "source": [
    "circ.barrier(0, 1, 2, 3, 4, 5, 6, 7)"
   ]
  },
  {
   "cell_type": "code",
   "execution_count": null,
   "id": "66793be5",
   "metadata": {},
   "outputs": [],
   "source": [
    "# Etat2"
   ]
  },
  {
   "cell_type": "code",
   "execution_count": null,
   "id": "414c7c8b",
   "metadata": {},
   "outputs": [],
   "source": [
    "circ.cx(1,4)"
   ]
  },
  {
   "cell_type": "code",
   "execution_count": null,
   "id": "3381c997",
   "metadata": {},
   "outputs": [],
   "source": [
    "circ.cx(2,4)"
   ]
  },
  {
   "cell_type": "code",
   "execution_count": null,
   "id": "8a5b427d",
   "metadata": {},
   "outputs": [],
   "source": [
    "circ.cx(3,4)"
   ]
  },
  {
   "cell_type": "code",
   "execution_count": null,
   "id": "7868c260",
   "metadata": {},
   "outputs": [],
   "source": [
    "circ.draw('mpl')"
   ]
  },
  {
   "cell_type": "code",
   "execution_count": null,
   "id": "b39f51df",
   "metadata": {},
   "outputs": [],
   "source": [
    "circ.barrier(0, 1, 2, 3, 4, 5, 6, 7)"
   ]
  },
  {
   "cell_type": "code",
   "execution_count": null,
   "id": "0cbcb1bf",
   "metadata": {},
   "outputs": [],
   "source": [
    "# Etat3"
   ]
  },
  {
   "cell_type": "code",
   "execution_count": null,
   "id": "3420992a",
   "metadata": {},
   "outputs": [],
   "source": [
    "circ.cx(4,5)"
   ]
  },
  {
   "cell_type": "code",
   "execution_count": null,
   "id": "3038d631",
   "metadata": {},
   "outputs": [],
   "source": [
    "circ.cx(4,6)"
   ]
  },
  {
   "cell_type": "code",
   "execution_count": null,
   "id": "c3b3ad53",
   "metadata": {},
   "outputs": [],
   "source": [
    "circ.cx(4,7)"
   ]
  },
  {
   "cell_type": "code",
   "execution_count": null,
   "id": "f67301c5",
   "metadata": {},
   "outputs": [],
   "source": [
    "circ.draw('mpl')"
   ]
  },
  {
   "cell_type": "code",
   "execution_count": null,
   "id": "91d8c1ef",
   "metadata": {},
   "outputs": [],
   "source": [
    "circ.barrier(0, 1, 2, 3, 4, 5, 6, 7)"
   ]
  },
  {
   "cell_type": "code",
   "execution_count": null,
   "id": "f473f343",
   "metadata": {},
   "outputs": [],
   "source": [
    "# Etat4"
   ]
  },
  {
   "cell_type": "code",
   "execution_count": null,
   "id": "c6397fb5",
   "metadata": {},
   "outputs": [],
   "source": [
    "circ.cx(2,5)"
   ]
  },
  {
   "cell_type": "code",
   "execution_count": null,
   "id": "de90d2e6",
   "metadata": {},
   "outputs": [],
   "source": [
    "circ.cx(3,5)"
   ]
  },
  {
   "cell_type": "code",
   "execution_count": null,
   "id": "e17feae3",
   "metadata": {},
   "outputs": [],
   "source": [
    "circ.draw('mpl')"
   ]
  },
  {
   "cell_type": "code",
   "execution_count": null,
   "id": "87d3a8dc",
   "metadata": {},
   "outputs": [],
   "source": [
    "circ.barrier(0, 1, 2, 3, 4, 5, 6, 7)"
   ]
  },
  {
   "cell_type": "code",
   "execution_count": null,
   "id": "d36b0562",
   "metadata": {},
   "outputs": [],
   "source": [
    "# Etat 5"
   ]
  },
  {
   "cell_type": "code",
   "execution_count": null,
   "id": "ccf8b46b",
   "metadata": {},
   "outputs": [],
   "source": [
    "circ.cx(5,6)"
   ]
  },
  {
   "cell_type": "code",
   "execution_count": null,
   "id": "b3ae0ac7",
   "metadata": {},
   "outputs": [],
   "source": [
    "circ.cx(5,7)"
   ]
  },
  {
   "cell_type": "code",
   "execution_count": null,
   "id": "ec6d179b",
   "metadata": {},
   "outputs": [],
   "source": [
    "circ.draw('mpl')"
   ]
  },
  {
   "cell_type": "code",
   "execution_count": null,
   "id": "5808e300",
   "metadata": {},
   "outputs": [],
   "source": [
    "circ.barrier(0, 1, 2, 3, 4, 5, 6, 7)"
   ]
  },
  {
   "cell_type": "code",
   "execution_count": null,
   "id": "fccfd6ce",
   "metadata": {},
   "outputs": [],
   "source": [
    "# Etat 6"
   ]
  },
  {
   "cell_type": "code",
   "execution_count": null,
   "id": "8db14317",
   "metadata": {},
   "outputs": [],
   "source": [
    "circ.cx(3,6)"
   ]
  },
  {
   "cell_type": "code",
   "execution_count": null,
   "id": "243b9cc0",
   "metadata": {},
   "outputs": [],
   "source": [
    "circ.draw('mpl')"
   ]
  },
  {
   "cell_type": "code",
   "execution_count": null,
   "id": "bfa199cd",
   "metadata": {},
   "outputs": [],
   "source": [
    "circ.barrier(0, 1, 2, 3, 4, 5, 6, 7)"
   ]
  },
  {
   "cell_type": "code",
   "execution_count": null,
   "id": "0ddd7cbe",
   "metadata": {},
   "outputs": [],
   "source": [
    "# Etat 7 "
   ]
  },
  {
   "cell_type": "code",
   "execution_count": null,
   "id": "e2729f78",
   "metadata": {},
   "outputs": [],
   "source": [
    "circ.cx(6,7)"
   ]
  },
  {
   "cell_type": "code",
   "execution_count": null,
   "id": "f275ba1a",
   "metadata": {},
   "outputs": [],
   "source": [
    "circ.draw('mpl')"
   ]
  },
  {
   "cell_type": "code",
   "execution_count": null,
   "id": "ffc00b39",
   "metadata": {},
   "outputs": [],
   "source": [
    "circ.barrier(0, 1, 2, 3, 4, 5, 6, 7)"
   ]
  },
  {
   "cell_type": "code",
   "execution_count": null,
   "id": "a5428f0e",
   "metadata": {},
   "outputs": [],
   "source": [
    "# Mesures"
   ]
  },
  {
   "cell_type": "code",
   "execution_count": null,
   "id": "5390f4e7",
   "metadata": {},
   "outputs": [],
   "source": [
    "circ.measure(0,0)"
   ]
  },
  {
   "cell_type": "code",
   "execution_count": null,
   "id": "11146408",
   "metadata": {},
   "outputs": [],
   "source": [
    "circ.measure(1,0)"
   ]
  },
  {
   "cell_type": "code",
   "execution_count": null,
   "id": "724ba15b",
   "metadata": {},
   "outputs": [],
   "source": [
    "circ.measure(2,0)"
   ]
  },
  {
   "cell_type": "code",
   "execution_count": null,
   "id": "276f2168",
   "metadata": {},
   "outputs": [],
   "source": [
    "circ.measure(3,0)"
   ]
  },
  {
   "cell_type": "code",
   "execution_count": null,
   "id": "9be964b9",
   "metadata": {},
   "outputs": [],
   "source": [
    "circ.measure(4,0)"
   ]
  },
  {
   "cell_type": "code",
   "execution_count": null,
   "id": "c6a2877c",
   "metadata": {},
   "outputs": [],
   "source": [
    "circ.measure(5,0)"
   ]
  },
  {
   "cell_type": "code",
   "execution_count": null,
   "id": "6141c9f4",
   "metadata": {},
   "outputs": [],
   "source": [
    "circ.measure(6,0)"
   ]
  },
  {
   "cell_type": "code",
   "execution_count": null,
   "id": "74250b4b",
   "metadata": {},
   "outputs": [],
   "source": [
    "circ.measure(7,0)"
   ]
  },
  {
   "cell_type": "code",
   "execution_count": null,
   "id": "d48f1c47",
   "metadata": {},
   "outputs": [],
   "source": [
    "circ.draw('mpl')"
   ]
  },
  {
   "cell_type": "code",
   "execution_count": null,
   "id": "d424ed19",
   "metadata": {},
   "outputs": [],
   "source": []
  }
 ],
 "metadata": {
  "kernelspec": {
   "display_name": "Python 3 (ipykernel)",
   "language": "python",
   "name": "python3"
  },
  "language_info": {
   "codemirror_mode": {
    "name": "ipython",
    "version": 3
   },
   "file_extension": ".py",
   "mimetype": "text/x-python",
   "name": "python",
   "nbconvert_exporter": "python",
   "pygments_lexer": "ipython3",
   "version": "3.11.5"
  }
 },
 "nbformat": 4,
 "nbformat_minor": 5
}
