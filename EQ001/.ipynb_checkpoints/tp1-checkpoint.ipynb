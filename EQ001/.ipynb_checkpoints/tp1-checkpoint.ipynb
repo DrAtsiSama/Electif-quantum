{
 "cells": [
  {
   "cell_type": "code",
   "execution_count": 1,
   "id": "7f848ce4",
   "metadata": {},
   "outputs": [],
   "source": [
    "from qiskit import *"
   ]
  },
  {
   "cell_type": "code",
   "execution_count": 2,
   "id": "db1e0e31",
   "metadata": {},
   "outputs": [],
   "source": [
    "# Creation d'un registre quantique de 3 Qubits"
   ]
  },
  {
   "cell_type": "code",
   "execution_count": 9,
   "id": "fc78bdca",
   "metadata": {},
   "outputs": [],
   "source": [
    "q = QuantumRegister(3)"
   ]
  },
  {
   "cell_type": "code",
   "execution_count": 10,
   "id": "07fa143e",
   "metadata": {},
   "outputs": [],
   "source": [
    "# Creation d'un registre"
   ]
  },
  {
   "cell_type": "code",
   "execution_count": 11,
   "id": "265ca602",
   "metadata": {},
   "outputs": [],
   "source": [
    "c = ClassicalRegister(1)"
   ]
  },
  {
   "cell_type": "code",
   "execution_count": 12,
   "id": "c86eddbf",
   "metadata": {},
   "outputs": [],
   "source": [
    "# Creation d'un Circuit quantique utilisant le registre Q et C"
   ]
  },
  {
   "cell_type": "code",
   "execution_count": 13,
   "id": "ea184780",
   "metadata": {},
   "outputs": [],
   "source": [
    "circ = QuantumCircuit(q,c)"
   ]
  },
  {
   "cell_type": "code",
   "execution_count": 14,
   "id": "09f08d04",
   "metadata": {},
   "outputs": [],
   "source": [
    "# Etat0"
   ]
  },
  {
   "cell_type": "code",
   "execution_count": null,
   "id": "dd18f5bc",
   "metadata": {},
   "outputs": [],
   "source": [
    "circ.draw('mpl')"
   ]
  }
 ],
 "metadata": {
  "kernelspec": {
   "display_name": "Python 3 (ipykernel)",
   "language": "python",
   "name": "python3"
  },
  "language_info": {
   "codemirror_mode": {
    "name": "ipython",
    "version": 3
   },
   "file_extension": ".py",
   "mimetype": "text/x-python",
   "name": "python",
   "nbconvert_exporter": "python",
   "pygments_lexer": "ipython3",
   "version": "3.11.5"
  }
 },
 "nbformat": 4,
 "nbformat_minor": 5
}
