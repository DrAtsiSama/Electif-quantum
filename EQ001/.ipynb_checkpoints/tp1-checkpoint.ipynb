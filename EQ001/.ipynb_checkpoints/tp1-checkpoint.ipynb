{
 "cells": [
  {
   "cell_type": "code",
   "execution_count": 1,
   "id": "7f848ce4",
   "metadata": {},
   "outputs": [],
   "source": [
    "from qiskit import *"
   ]
  },
  {
   "cell_type": "code",
   "execution_count": 2,
   "id": "b6d0c55e",
   "metadata": {},
   "outputs": [],
   "source": [
    "# Creation d'un registre quantique de 3 Qubits"
   ]
  },
  {
   "cell_type": "code",
   "execution_count": 3,
   "id": "dde32350",
   "metadata": {},
   "outputs": [],
   "source": [
    "q = QuantumRegister(3)"
   ]
  },
  {
   "cell_type": "code",
   "execution_count": 4,
   "id": "b7a3bfdf",
   "metadata": {},
   "outputs": [],
   "source": [
    "# Creation d'un registre"
   ]
  },
  {
   "cell_type": "code",
   "execution_count": 5,
   "id": "9e3499c6",
   "metadata": {},
   "outputs": [],
   "source": [
    "c = ClassicalRegister(1)"
   ]
  },
  {
   "cell_type": "code",
   "execution_count": 6,
   "id": "66c4371c",
   "metadata": {},
   "outputs": [],
   "source": [
    "# Creation d'un Circuit quantique utilisant le registre Q et C"
   ]
  },
  {
   "cell_type": "code",
   "execution_count": 7,
   "id": "dc8f5325",
   "metadata": {},
   "outputs": [],
   "source": [
    "circ = QuantumCircuit(q,c)"
   ]
  },
  {
   "cell_type": "code",
   "execution_count": 8,
   "id": "c0f01a59",
   "metadata": {},
   "outputs": [],
   "source": [
    "# Etat0"
   ]
  },
  {
   "cell_type": "code",
   "execution_count": 9,
   "id": "7951f9bb",
   "metadata": {},
   "outputs": [
    {
     "data": {
      "image/png": "[encoded data removed]",
      "text/plain": [
       "<Figure size 180.108x367.889 with 1 Axes>"
      ]
     },
     "execution_count": 9,
     "metadata": {},
     "output_type": "execute_result"
    }
   ],
   "source": [
    "circ.draw('mpl')"
   ]
  },
  {
   "cell_type": "code",
   "execution_count": 10,
   "id": "1571b13c",
   "metadata": {},
   "outputs": [],
   "source": [
    "#Etape 1 : portes de Hadamard"
   ]
  },
  {
   "cell_type": "code",
   "execution_count": 11,
   "id": "292b8d95",
   "metadata": {},
   "outputs": [
    {
     "data": {
      "text/plain": [
       "<qiskit.circuit.instructionset.InstructionSet at 0x7f16841491b0>"
      ]
     },
     "execution_count": 11,
     "metadata": {},
     "output_type": "execute_result"
    }
   ],
   "source": [
    "circ.h(0)"
   ]
  },
  {
   "cell_type": "code",
   "execution_count": 12,
   "id": "c1131ca5",
   "metadata": {},
   "outputs": [
    {
     "data": {
      "text/plain": [
       "<qiskit.circuit.instructionset.InstructionSet at 0x7f1684149510>"
      ]
     },
     "execution_count": 12,
     "metadata": {},
     "output_type": "execute_result"
    }
   ],
   "source": [
    "circ.h(2)"
   ]
  },
  {
   "cell_type": "code",
   "execution_count": 13,
   "id": "aaeedfdb",
   "metadata": {},
   "outputs": [],
   "source": [
    "# Porte Cnot"
   ]
  },
  {
   "cell_type": "code",
   "execution_count": 14,
   "id": "a34ca793",
   "metadata": {},
   "outputs": [
    {
     "data": {
      "text/plain": [
       "<qiskit.circuit.instructionset.InstructionSet at 0x7f168414a230>"
      ]
     },
     "execution_count": 14,
     "metadata": {},
     "output_type": "execute_result"
    }
   ],
   "source": [
    "circ.cx(0,1)"
   ]
  },
  {
   "cell_type": "code",
   "execution_count": 15,
   "id": "6554dbcf",
   "metadata": {},
   "outputs": [],
   "source": [
    "# Etat0-1"
   ]
  },
  {
   "cell_type": "code",
   "execution_count": 16,
   "id": "cc98b0b0",
   "metadata": {},
   "outputs": [
    {
     "data": {
      "image/png": "[encoded data removed]",
      "text/plain": [
       "<Figure size 305.525x367.889 with 1 Axes>"
      ]
     },
     "execution_count": 16,
     "metadata": {},
     "output_type": "execute_result"
    }
   ],
   "source": [
    "circ.draw('mpl')"
   ]
  },
  {
   "cell_type": "code",
   "execution_count": null,
   "id": "260d58ab",
   "metadata": {},
   "outputs": [],
   "source": [
    "circ.barrier(0, 1, 2)"
   ]
  },
  {
   "cell_type": "code",
   "execution_count": 17,
   "id": "34c0ed80",
   "metadata": {},
   "outputs": [],
   "source": [
    "# Etat1"
   ]
  },
  {
   "cell_type": "code",
   "execution_count": 18,
   "id": "e8f4d4df",
   "metadata": {},
   "outputs": [
    {
     "data": {
      "text/plain": [
       "<qiskit.circuit.instructionset.InstructionSet at 0x7f168414b5e0>"
      ]
     },
     "execution_count": 18,
     "metadata": {},
     "output_type": "execute_result"
    }
   ],
   "source": [
    "circ.cx(2,1)"
   ]
  },
  {
   "cell_type": "code",
   "execution_count": 19,
   "id": "7360787e",
   "metadata": {},
   "outputs": [],
   "source": [
    "# Porte Q -> restaure l'état initial"
   ]
  },
  {
   "cell_type": "code",
   "execution_count": 20,
   "id": "f911f898",
   "metadata": {},
   "outputs": [
    {
     "data": {
      "text/plain": [
       "<qiskit.circuit.instructionset.InstructionSet at 0x7f168414bd60>"
      ]
     },
     "execution_count": 20,
     "metadata": {},
     "output_type": "execute_result"
    }
   ],
   "source": [
    "circ.x(2)"
   ]
  },
  {
   "cell_type": "code",
   "execution_count": 21,
   "id": "1b9d5317",
   "metadata": {},
   "outputs": [
    {
     "data": {
      "text/plain": [
       "<qiskit.circuit.instructionset.InstructionSet at 0x7f1684149ed0>"
      ]
     },
     "execution_count": 21,
     "metadata": {},
     "output_type": "execute_result"
    }
   ],
   "source": [
    "circ.cx(2,0)"
   ]
  },
  {
   "cell_type": "code",
   "execution_count": 22,
   "id": "9ca4ab34",
   "metadata": {},
   "outputs": [
    {
     "data": {
      "text/plain": [
       "<qiskit.circuit.instructionset.InstructionSet at 0x7f168414bc70>"
      ]
     },
     "execution_count": 22,
     "metadata": {},
     "output_type": "execute_result"
    }
   ],
   "source": [
    "circ.x(2)"
   ]
  },
  {
   "cell_type": "code",
   "execution_count": 23,
   "id": "4464fa97",
   "metadata": {},
   "outputs": [],
   "source": [
    "# Etat1-2"
   ]
  },
  {
   "cell_type": "code",
   "execution_count": null,
   "id": "6633a9e0",
   "metadata": {},
   "outputs": [],
   "source": [
    "circ.barrier(0, 1, 2)"
   ]
  },
  {
   "cell_type": "code",
   "execution_count": 24,
   "id": "a92359ed",
   "metadata": {},
   "outputs": [
    {
     "data": {
      "image/png": "[encoded data removed]",
      "text/plain": [
       "<Figure size 639.969x367.889 with 1 Axes>"
      ]
     },
     "execution_count": 24,
     "metadata": {},
     "output_type": "execute_result"
    }
   ],
   "source": [
    "circ.draw('mpl')"
   ]
  },
  {
   "cell_type": "code",
   "execution_count": 25,
   "id": "b87bdd31",
   "metadata": {},
   "outputs": [],
   "source": [
    "# Etat 2"
   ]
  },
  {
   "cell_type": "code",
   "execution_count": 26,
   "id": "7623e659",
   "metadata": {},
   "outputs": [],
   "source": [
    "# Porte de permutation (swap)"
   ]
  },
  {
   "cell_type": "code",
   "execution_count": 27,
   "id": "f55a9d75",
   "metadata": {},
   "outputs": [
    {
     "data": {
      "text/plain": [
       "<qiskit.circuit.instructionset.InstructionSet at 0x7f1683fffac0>"
      ]
     },
     "execution_count": 27,
     "metadata": {},
     "output_type": "execute_result"
    }
   ],
   "source": [
    "circ.swap(0,1)"
   ]
  },
  {
   "cell_type": "code",
   "execution_count": 28,
   "id": "937ab885",
   "metadata": {},
   "outputs": [
    {
     "data": {
      "text/plain": [
       "<qiskit.circuit.instructionset.InstructionSet at 0x7f1683fff610>"
      ]
     },
     "execution_count": 28,
     "metadata": {},
     "output_type": "execute_result"
    }
   ],
   "source": [
    "circ.x(0)"
   ]
  },
  {
   "cell_type": "code",
   "execution_count": 29,
   "id": "af9aa095",
   "metadata": {},
   "outputs": [
    {
     "data": {
      "text/plain": [
       "<qiskit.circuit.instructionset.InstructionSet at 0x7f1683ffd270>"
      ]
     },
     "execution_count": 29,
     "metadata": {},
     "output_type": "execute_result"
    }
   ],
   "source": [
    "circ.x(1)"
   ]
  },
  {
   "cell_type": "code",
   "execution_count": 30,
   "id": "2bfb9000",
   "metadata": {},
   "outputs": [
    {
     "data": {
      "text/plain": [
       "<qiskit.circuit.instructionset.InstructionSet at 0x7f1683fffb80>"
      ]
     },
     "execution_count": 30,
     "metadata": {},
     "output_type": "execute_result"
    }
   ],
   "source": [
    "circ.cx(2,1)"
   ]
  },
  {
   "cell_type": "code",
   "execution_count": 31,
   "id": "351f00de",
   "metadata": {},
   "outputs": [
    {
     "data": {
      "text/plain": [
       "<qiskit.circuit.instructionset.InstructionSet at 0x7f1683fff940>"
      ]
     },
     "execution_count": 31,
     "metadata": {},
     "output_type": "execute_result"
    }
   ],
   "source": [
    "circ.x(2)"
   ]
  },
  {
   "cell_type": "code",
   "execution_count": 32,
   "id": "87e62b43",
   "metadata": {},
   "outputs": [
    {
     "data": {
      "text/plain": [
       "<qiskit.circuit.instructionset.InstructionSet at 0x7f1683fff7c0>"
      ]
     },
     "execution_count": 32,
     "metadata": {},
     "output_type": "execute_result"
    }
   ],
   "source": [
    "circ.cx(2,0)"
   ]
  },
  {
   "cell_type": "code",
   "execution_count": 33,
   "id": "166552b2",
   "metadata": {},
   "outputs": [
    {
     "data": {
      "text/plain": [
       "<qiskit.circuit.instructionset.InstructionSet at 0x7f1683fffc10>"
      ]
     },
     "execution_count": 33,
     "metadata": {},
     "output_type": "execute_result"
    }
   ],
   "source": [
    "circ.x(2)"
   ]
  },
  {
   "cell_type": "code",
   "execution_count": 34,
   "id": "d899c12e",
   "metadata": {},
   "outputs": [],
   "source": [
    "# Etat2-3"
   ]
  },
  {
   "cell_type": "code",
   "execution_count": 35,
   "id": "879bde44",
   "metadata": {},
   "outputs": [
    {
     "data": {
      "image/png": "[encoded data removed]",
      "text/plain": [
       "<Figure size 1058.03x367.889 with 1 Axes>"
      ]
     },
     "execution_count": 35,
     "metadata": {},
     "output_type": "execute_result"
    }
   ],
   "source": [
    "circ.draw('mpl')"
   ]
  },
  {
   "cell_type": "code",
   "execution_count": 36,
   "id": "8850b0fe",
   "metadata": {},
   "outputs": [],
   "source": [
    "# Etape 3 Mesure des Qubits"
   ]
  },
  {
   "cell_type": "code",
   "execution_count": 37,
   "id": "f2e61824",
   "metadata": {},
   "outputs": [
    {
     "data": {
      "text/plain": [
       "<qiskit.circuit.instructionset.InstructionSet at 0x7f1683f12350>"
      ]
     },
     "execution_count": 37,
     "metadata": {},
     "output_type": "execute_result"
    }
   ],
   "source": [
    "circ.measure(0,0)"
   ]
  },
  {
   "cell_type": "code",
   "execution_count": 38,
   "id": "ea1c0b34",
   "metadata": {},
   "outputs": [
    {
     "data": {
      "text/plain": [
       "<qiskit.circuit.instructionset.InstructionSet at 0x7f1683f10d00>"
      ]
     },
     "execution_count": 38,
     "metadata": {},
     "output_type": "execute_result"
    }
   ],
   "source": [
    "circ.measure(1,0)"
   ]
  },
  {
   "cell_type": "code",
   "execution_count": 39,
   "id": "c78c60a3",
   "metadata": {},
   "outputs": [
    {
     "data": {
      "text/plain": [
       "<qiskit.circuit.instructionset.InstructionSet at 0x7f1683f100d0>"
      ]
     },
     "execution_count": 39,
     "metadata": {},
     "output_type": "execute_result"
    }
   ],
   "source": [
    "circ.measure(2,0)"
   ]
  },
  {
   "cell_type": "code",
   "execution_count": 40,
   "id": "6bddf01f",
   "metadata": {},
   "outputs": [],
   "source": [
    "# Etat Finale"
   ]
  },
  {
   "cell_type": "code",
   "execution_count": 41,
   "id": "bfd1f13c",
   "metadata": {},
   "outputs": [
    {
     "data": {
      "image/png": "[encoded data removed]",
      "text/plain": [
       "<Figure size 1308.86x367.889 with 1 Axes>"
      ]
     },
     "execution_count": 41,
     "metadata": {},
     "output_type": "execute_result"
    }
   ],
   "source": [
    "circ.draw('mpl')"
   ]
  },
  {
   "cell_type": "code",
   "execution_count": null,
   "id": "bd52a734",
   "metadata": {},
   "outputs": [],
   "source": []
  }
 ],
 "metadata": {
  "kernelspec": {
   "display_name": "Python 3 (ipykernel)",
   "language": "python",
   "name": "python3"
  },
  "language_info": {
   "codemirror_mode": {
    "name": "ipython",
    "version": 3
   },
   "file_extension": ".py",
   "mimetype": "text/x-python",
   "name": "python",
   "nbconvert_exporter": "python",
   "pygments_lexer": "ipython3",
   "version": "3.11.5"
  }
 },
 "nbformat": 4,
 "nbformat_minor": 5
}
